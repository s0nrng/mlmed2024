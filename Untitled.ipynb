{
 "cells": [
  {
   "cell_type": "code",
   "execution_count": 1,
   "id": "25b9c862",
   "metadata": {},
   "outputs": [
    {
     "name": "stderr",
     "output_type": "stream",
     "text": [
      "/Users/sonnguyen/anaconda3/envs/gcnn/lib/python3.10/site-packages/tqdm/auto.py:21: TqdmWarning: IProgress not found. Please update jupyter and ipywidgets. See https://ipywidgets.readthedocs.io/en/stable/user_install.html\n",
      "  from .autonotebook import tqdm as notebook_tqdm\n"
     ]
    }
   ],
   "source": [
    "import pandas as pd\n",
    "import numpy as np\n",
    "import torch \n",
    "import torch.nn as nn\n",
    "import torch.nn.init as init\n",
    "import torch.nn.functional as f\n",
    "from tqdm.auto import tqdm\n",
    "from torch.utils.data import Dataset, DataLoader\n",
    "import matplotlib.pyplot as plt"
   ]
  },
  {
   "cell_type": "code",
   "execution_count": 2,
   "id": "8ed08ba8",
   "metadata": {},
   "outputs": [],
   "source": [
    "X_train = pd.read_csv(\"mitbih_train.csv\").to_numpy()\n",
    "X_test = pd.read_csv(\"mitbih_test.csv\").to_numpy()\n",
    "\n",
    "Y_train = X_train[65000:,-1].astype(int)\n",
    "Y_test = X_test[:,-1].astype(int)\n",
    "X_train = X_train[65000:,:-1]\n",
    "X_test = X_test[:,:-1]"
   ]
  },
  {
   "cell_type": "code",
   "execution_count": 11,
   "id": "e759db19",
   "metadata": {},
   "outputs": [],
   "source": [
    "class ResBlock(nn.Module):\n",
    "    def __init__(self):\n",
    "        super(ResBlock, self).__init__()\n",
    "        self.conv1 = nn.Conv1d(32, 32, 5, padding='same')\n",
    "        init.xavier_uniform_(self.conv1.weight)\n",
    "        init.constant_(self.conv1.bias, 0)\n",
    "        self.conv2 = nn.Conv1d(32, 32, 5, padding='same')\n",
    "        init.xavier_uniform_(self.conv2.weight)\n",
    "        init.constant_(self.conv2.bias, 0)\n",
    "        self.pool = nn.MaxPool1d(5,stride=2)\n",
    "        \n",
    "    def forward(self, data):\n",
    "        output = f.relu(self.conv1(data))\n",
    "        output = self.conv2(output)\n",
    "        output += data\n",
    "        output = f.relu(output)\n",
    "        output = self.pool(output)\n",
    "        return output\n",
    "    \n",
    "class implementedModel(nn.Module):\n",
    "    def __init__(self, device):\n",
    "        super(implementedModel, self).__init__()\n",
    "        self.preconv = nn.Conv1d(1, 32, 5, padding='same')\n",
    "        init.xavier_uniform_(self.preconv.weight)\n",
    "        init.constant_(self.preconv.bias, 0)\n",
    "        self.res = []\n",
    "        for i in range(5):\n",
    "            self.res.append(ResBlock().to(device))\n",
    "        self.fc1 = nn.Linear(64, 32)\n",
    "        self.fc2 = nn.Linear(32, 5)\n",
    "        \n",
    "        \n",
    "    def forward(self, data):\n",
    "        data = self.preconv(data)\n",
    "        for resblock in self.res:\n",
    "            data = resblock(data)\n",
    "        data = nn.Flatten()(data)\n",
    "        data = f.relu(self.fc1(data))\n",
    "        data = f.softmax(self.fc2(data))\n",
    "        return data"
   ]
  },
  {
   "cell_type": "code",
   "execution_count": 12,
   "id": "779d8b48",
   "metadata": {},
   "outputs": [],
   "source": [
    "class EEGDataset(Dataset):\n",
    "    def __init__(self, X, Y):\n",
    "        self.X = torch.FloatTensor(X).unsqueeze(dim=1)\n",
    "        self.Y = torch.LongTensor(Y)\n",
    "        \n",
    "    def __len__(self):\n",
    "        return(self.Y.shape[-1])\n",
    "    \n",
    "    def __getitem__(self, idx):\n",
    "        return self.X[idx], self.Y[idx]"
   ]
  },
  {
   "cell_type": "code",
   "execution_count": 13,
   "id": "36b3b7a2",
   "metadata": {},
   "outputs": [],
   "source": [
    "train_dataset = EEGDataset(X_train, Y_train)\n",
    "test_dataset = EEGDataset(X_test, Y_test)\n",
    "train_loader = DataLoader(train_dataset, batch_size=64, shuffle=True)\n",
    "test_loader = DataLoader(train_dataset, batch_size=64)"
   ]
  },
  {
   "cell_type": "code",
   "execution_count": 14,
   "id": "58b7d6db",
   "metadata": {},
   "outputs": [],
   "source": [
    "device = \"mps\"\n",
    "model = implementedModel(device).to(device)\n",
    "loss_fn = nn.CrossEntropyLoss()\n",
    "optimizer = torch.optim.Adam(params = model.parameters(), lr = 0.0001)"
   ]
  },
  {
   "cell_type": "code",
   "execution_count": null,
   "id": "364222ab",
   "metadata": {},
   "outputs": [
    {
     "name": "stderr",
     "output_type": "stream",
     "text": [
      "  0%|                                                   | 0/353 [00:00<?, ?it/s]/var/folders/78/hjwcqld910bbbvv_d5v3vgmw0000gn/T/ipykernel_6823/1087324179.py:39: UserWarning: Implicit dimension choice for softmax has been deprecated. Change the call to include dim=X as an argument.\n",
      "  data = f.softmax(self.fc2(data))\n",
      "100%|█████████████████████████████████████████| 353/353 [00:06<00:00, 58.01it/s]\n"
     ]
    },
    {
     "name": "stdout",
     "output_type": "stream",
     "text": [
      "Epoch:  0       Loss:  1.567128621147307       Accuracy:  22.662889518413596\n"
     ]
    },
    {
     "name": "stderr",
     "output_type": "stream",
     "text": [
      "100%|█████████████████████████████████████████| 353/353 [00:05<00:00, 63.33it/s]\n"
     ]
    },
    {
     "name": "stdout",
     "output_type": "stream",
     "text": [
      "Epoch:  1       Loss:  1.4996430293021052       Accuracy:  26.79886685552408\n"
     ]
    },
    {
     "name": "stderr",
     "output_type": "stream",
     "text": [
      "100%|█████████████████████████████████████████| 353/353 [00:05<00:00, 62.88it/s]\n"
     ]
    },
    {
     "name": "stdout",
     "output_type": "stream",
     "text": [
      "Epoch:  2       Loss:  1.425142418899212       Accuracy:  35.07648725212464\n"
     ]
    },
    {
     "name": "stderr",
     "output_type": "stream",
     "text": [
      "100%|█████████████████████████████████████████| 353/353 [00:05<00:00, 63.26it/s]\n"
     ]
    },
    {
     "name": "stdout",
     "output_type": "stream",
     "text": [
      "Epoch:  3       Loss:  1.380988326694067       Accuracy:  35.30028328611898\n"
     ]
    },
    {
     "name": "stderr",
     "output_type": "stream",
     "text": [
      "100%|█████████████████████████████████████████| 353/353 [00:05<00:00, 63.12it/s]\n"
     ]
    },
    {
     "name": "stdout",
     "output_type": "stream",
     "text": [
      "Epoch:  4       Loss:  1.3582853967002027       Accuracy:  35.43342776203966\n"
     ]
    },
    {
     "name": "stderr",
     "output_type": "stream",
     "text": [
      "100%|█████████████████████████████████████████| 353/353 [00:05<00:00, 63.59it/s]\n"
     ]
    },
    {
     "name": "stdout",
     "output_type": "stream",
     "text": [
      "Epoch:  5       Loss:  1.3379484563643804       Accuracy:  36.51274787535411\n"
     ]
    },
    {
     "name": "stderr",
     "output_type": "stream",
     "text": [
      "100%|█████████████████████████████████████████| 353/353 [00:05<00:00, 63.62it/s]\n"
     ]
    },
    {
     "name": "stdout",
     "output_type": "stream",
     "text": [
      "Epoch:  6       Loss:  1.3161074409403815       Accuracy:  39.079320113314445\n"
     ]
    },
    {
     "name": "stderr",
     "output_type": "stream",
     "text": [
      "100%|█████████████████████████████████████████| 353/353 [00:05<00:00, 62.43it/s]\n"
     ]
    },
    {
     "name": "stdout",
     "output_type": "stream",
     "text": [
      "Epoch:  7       Loss:  1.295440127761776       Accuracy:  40.8385269121813\n"
     ]
    },
    {
     "name": "stderr",
     "output_type": "stream",
     "text": [
      "100%|█████████████████████████████████████████| 353/353 [00:05<00:00, 63.87it/s]\n"
     ]
    },
    {
     "name": "stdout",
     "output_type": "stream",
     "text": [
      "Epoch:  8       Loss:  1.2758935922941472       Accuracy:  42.39660056657224\n"
     ]
    },
    {
     "name": "stderr",
     "output_type": "stream",
     "text": [
      "100%|█████████████████████████████████████████| 353/353 [00:05<00:00, 63.41it/s]\n"
     ]
    },
    {
     "name": "stdout",
     "output_type": "stream",
     "text": [
      "Epoch:  9       Loss:  1.2594506892536586       Accuracy:  43.623229461756374\n"
     ]
    },
    {
     "name": "stderr",
     "output_type": "stream",
     "text": [
      "100%|█████████████████████████████████████████| 353/353 [00:05<00:00, 63.47it/s]\n"
     ]
    },
    {
     "name": "stdout",
     "output_type": "stream",
     "text": [
      "Epoch:  10       Loss:  1.2444683478844403       Accuracy:  44.756373937677054\n"
     ]
    },
    {
     "name": "stderr",
     "output_type": "stream",
     "text": [
      "100%|█████████████████████████████████████████| 353/353 [00:05<00:00, 63.46it/s]\n"
     ]
    },
    {
     "name": "stdout",
     "output_type": "stream",
     "text": [
      "Epoch:  11       Loss:  1.231236676994194       Accuracy:  45.45609065155807\n"
     ]
    },
    {
     "name": "stderr",
     "output_type": "stream",
     "text": [
      "100%|█████████████████████████████████████████| 353/353 [00:05<00:00, 63.87it/s]\n"
     ]
    },
    {
     "name": "stdout",
     "output_type": "stream",
     "text": [
      "Epoch:  12       Loss:  1.2202397665963969       Accuracy:  46.039660056657226\n"
     ]
    },
    {
     "name": "stderr",
     "output_type": "stream",
     "text": [
      "100%|█████████████████████████████████████████| 353/353 [00:05<00:00, 62.80it/s]\n"
     ]
    },
    {
     "name": "stdout",
     "output_type": "stream",
     "text": [
      "Epoch:  13       Loss:  1.2108389851729526       Accuracy:  46.34844192634561\n"
     ]
    },
    {
     "name": "stderr",
     "output_type": "stream",
     "text": [
      "100%|█████████████████████████████████████████| 353/353 [00:05<00:00, 62.97it/s]\n"
     ]
    },
    {
     "name": "stdout",
     "output_type": "stream",
     "text": [
      "Epoch:  14       Loss:  1.2029871589401289       Accuracy:  46.54390934844193\n"
     ]
    },
    {
     "name": "stderr",
     "output_type": "stream",
     "text": [
      "100%|█████████████████████████████████████████| 353/353 [00:05<00:00, 63.24it/s]\n"
     ]
    },
    {
     "name": "stdout",
     "output_type": "stream",
     "text": [
      "Epoch:  15       Loss:  1.1964386799517839       Accuracy:  46.62889518413598\n"
     ]
    },
    {
     "name": "stderr",
     "output_type": "stream",
     "text": [
      "100%|█████████████████████████████████████████| 353/353 [00:05<00:00, 63.50it/s]\n"
     ]
    },
    {
     "name": "stdout",
     "output_type": "stream",
     "text": [
      "Epoch:  16       Loss:  1.1905175069236216       Accuracy:  46.8356940509915\n"
     ]
    },
    {
     "name": "stderr",
     "output_type": "stream",
     "text": [
      "100%|█████████████████████████████████████████| 353/353 [00:05<00:00, 64.05it/s]\n"
     ]
    },
    {
     "name": "stdout",
     "output_type": "stream",
     "text": [
      "Epoch:  17       Loss:  1.1854536172013108       Accuracy:  46.96883852691218\n"
     ]
    },
    {
     "name": "stderr",
     "output_type": "stream",
     "text": [
      "100%|█████████████████████████████████████████| 353/353 [00:05<00:00, 63.66it/s]\n"
     ]
    },
    {
     "name": "stdout",
     "output_type": "stream",
     "text": [
      "Epoch:  18       Loss:  1.1809641625996015       Accuracy:  47.15297450424929\n"
     ]
    },
    {
     "name": "stderr",
     "output_type": "stream",
     "text": [
      "100%|█████████████████████████████████████████| 353/353 [00:05<00:00, 63.09it/s]\n"
     ]
    },
    {
     "name": "stdout",
     "output_type": "stream",
     "text": [
      "Epoch:  19       Loss:  1.1768662885633474       Accuracy:  47.31161473087819\n"
     ]
    },
    {
     "name": "stderr",
     "output_type": "stream",
     "text": [
      "100%|█████████████████████████████████████████| 353/353 [00:05<00:00, 63.43it/s]\n"
     ]
    },
    {
     "name": "stdout",
     "output_type": "stream",
     "text": [
      "Epoch:  20       Loss:  1.173220563880445       Accuracy:  47.478753541076486\n"
     ]
    },
    {
     "name": "stderr",
     "output_type": "stream",
     "text": [
      "100%|█████████████████████████████████████████| 353/353 [00:05<00:00, 62.97it/s]\n"
     ]
    },
    {
     "name": "stdout",
     "output_type": "stream",
     "text": [
      "Epoch:  21       Loss:  1.1699745013423413       Accuracy:  47.68271954674221\n"
     ]
    },
    {
     "name": "stderr",
     "output_type": "stream",
     "text": [
      "100%|█████████████████████████████████████████| 353/353 [00:05<00:00, 63.31it/s]\n"
     ]
    },
    {
     "name": "stdout",
     "output_type": "stream",
     "text": [
      "Epoch:  22       Loss:  1.1668472830364454       Accuracy:  47.87818696883853\n"
     ]
    },
    {
     "name": "stderr",
     "output_type": "stream",
     "text": [
      "100%|█████████████████████████████████████████| 353/353 [00:05<00:00, 63.78it/s]\n"
     ]
    },
    {
     "name": "stdout",
     "output_type": "stream",
     "text": [
      "Epoch:  23       Loss:  1.1640145552394747       Accuracy:  47.95467422096317\n"
     ]
    },
    {
     "name": "stderr",
     "output_type": "stream",
     "text": [
      "100%|█████████████████████████████████████████| 353/353 [00:05<00:00, 63.34it/s]\n"
     ]
    },
    {
     "name": "stdout",
     "output_type": "stream",
     "text": [
      "Epoch:  24       Loss:  1.1614746902211868       Accuracy:  48.08498583569405\n"
     ]
    },
    {
     "name": "stderr",
     "output_type": "stream",
     "text": [
      "100%|█████████████████████████████████████████| 353/353 [00:05<00:00, 63.32it/s]\n"
     ]
    },
    {
     "name": "stdout",
     "output_type": "stream",
     "text": [
      "Epoch:  25       Loss:  1.1587671338667613       Accuracy:  48.21813031161473\n"
     ]
    },
    {
     "name": "stderr",
     "output_type": "stream",
     "text": [
      "100%|█████████████████████████████████████████| 353/353 [00:05<00:00, 62.78it/s]\n"
     ]
    },
    {
     "name": "stdout",
     "output_type": "stream",
     "text": [
      "Epoch:  26       Loss:  1.1566411891672497       Accuracy:  48.32294617563739\n"
     ]
    },
    {
     "name": "stderr",
     "output_type": "stream",
     "text": [
      "100%|█████████████████████████████████████████| 353/353 [00:05<00:00, 63.78it/s]\n"
     ]
    },
    {
     "name": "stdout",
     "output_type": "stream",
     "text": [
      "Epoch:  27       Loss:  1.154209514515258       Accuracy:  48.48725212464589\n"
     ]
    },
    {
     "name": "stderr",
     "output_type": "stream",
     "text": [
      "100%|█████████████████████████████████████████| 353/353 [00:05<00:00, 62.97it/s]\n"
     ]
    },
    {
     "name": "stdout",
     "output_type": "stream",
     "text": [
      "Epoch:  28       Loss:  1.1518116885474317       Accuracy:  48.53541076487252\n"
     ]
    },
    {
     "name": "stderr",
     "output_type": "stream",
     "text": [
      "100%|█████████████████████████████████████████| 353/353 [00:05<00:00, 60.08it/s]\n"
     ]
    },
    {
     "name": "stdout",
     "output_type": "stream",
     "text": [
      "Epoch:  29       Loss:  1.1500522141416079       Accuracy:  48.67705382436261\n"
     ]
    },
    {
     "name": "stderr",
     "output_type": "stream",
     "text": [
      "100%|█████████████████████████████████████████| 353/353 [00:05<00:00, 60.31it/s]\n"
     ]
    },
    {
     "name": "stdout",
     "output_type": "stream",
     "text": [
      "Epoch:  30       Loss:  1.1482371571381436       Accuracy:  48.77620396600567\n"
     ]
    },
    {
     "name": "stderr",
     "output_type": "stream",
     "text": [
      "100%|█████████████████████████████████████████| 353/353 [00:05<00:00, 61.06it/s]\n"
     ]
    },
    {
     "name": "stdout",
     "output_type": "stream",
     "text": [
      "Epoch:  31       Loss:  1.1462003391119981       Accuracy:  48.89518413597734\n"
     ]
    },
    {
     "name": "stderr",
     "output_type": "stream",
     "text": [
      "100%|█████████████████████████████████████████| 353/353 [00:05<00:00, 62.83it/s]\n"
     ]
    },
    {
     "name": "stdout",
     "output_type": "stream",
     "text": [
      "Epoch:  32       Loss:  1.144697805977408       Accuracy:  49.01133144475921\n"
     ]
    },
    {
     "name": "stderr",
     "output_type": "stream",
     "text": [
      "100%|█████████████████████████████████████████| 353/353 [00:05<00:00, 60.94it/s]\n"
     ]
    },
    {
     "name": "stdout",
     "output_type": "stream",
     "text": [
      "Epoch:  33       Loss:  1.143225766781707       Accuracy:  49.12181303116147\n"
     ]
    },
    {
     "name": "stderr",
     "output_type": "stream",
     "text": [
      "100%|█████████████████████████████████████████| 353/353 [00:05<00:00, 63.28it/s]\n"
     ]
    },
    {
     "name": "stdout",
     "output_type": "stream",
     "text": [
      "Epoch:  34       Loss:  1.1414241811033687       Accuracy:  49.22379603399433\n"
     ]
    },
    {
     "name": "stderr",
     "output_type": "stream",
     "text": [
      " 61%|█████████████████████████▏               | 217/353 [00:03<00:02, 62.53it/s]"
     ]
    }
   ],
   "source": [
    "epoch = 100\n",
    "for e in range(epoch):\n",
    "    train_loss = 0\n",
    "    train_acc = 0\n",
    "    for i, (datas, labels) in enumerate(tqdm(train_loader)):\n",
    "        datas = datas.to(\"mps\")\n",
    "        labels = labels.to(\"mps\")\n",
    "        optimizer.zero_grad()\n",
    "        outputs = model(datas)\n",
    "        loss = loss_fn(outputs, labels)\n",
    "        loss.backward()\n",
    "        train_loss += loss.item()\n",
    "        train_acc += (np.sum(np.array(outputs.argmax(dim=1).tolist()) == np.array(labels.tolist())))\n",
    "        optimizer.step()\n",
    "    train_loss /= len(train_loader)\n",
    "    train_acc /= len(train_loader)\n",
    "    print(\"Epoch: \",e,\"      Loss: \",train_loss,\"      Accuracy: \", train_acc)"
   ]
  },
  {
   "cell_type": "code",
   "execution_count": null,
   "id": "b9239b46",
   "metadata": {},
   "outputs": [],
   "source": []
  }
 ],
 "metadata": {
  "kernelspec": {
   "display_name": "Python 3 (ipykernel)",
   "language": "python",
   "name": "python3"
  },
  "language_info": {
   "codemirror_mode": {
    "name": "ipython",
    "version": 3
   },
   "file_extension": ".py",
   "mimetype": "text/x-python",
   "name": "python",
   "nbconvert_exporter": "python",
   "pygments_lexer": "ipython3",
   "version": "3.10.12"
  }
 },
 "nbformat": 4,
 "nbformat_minor": 5
}
