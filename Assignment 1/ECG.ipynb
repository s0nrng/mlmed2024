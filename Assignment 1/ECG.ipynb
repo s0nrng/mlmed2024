{
 "cells": [
  {
   "cell_type": "code",
   "execution_count": 1,
   "id": "88ab1a62",
   "metadata": {},
   "outputs": [
    {
     "name": "stderr",
     "output_type": "stream",
     "text": [
      "/Users/sonnguyen/anaconda3/envs/gcnn/lib/python3.10/site-packages/tqdm/auto.py:21: TqdmWarning: IProgress not found. Please update jupyter and ipywidgets. See https://ipywidgets.readthedocs.io/en/stable/user_install.html\n",
      "  from .autonotebook import tqdm as notebook_tqdm\n"
     ]
    }
   ],
   "source": [
    "import pandas as pd\n",
    "import numpy as np\n",
    "import torch \n",
    "import torch.nn as nn\n",
    "import torch.nn.init as init\n",
    "import torch.nn.functional as f\n",
    "from tqdm.auto import tqdm\n",
    "from torch.utils.data import Dataset, DataLoader\n",
    "import matplotlib.pyplot as plt"
   ]
  },
  {
   "cell_type": "code",
   "execution_count": 2,
   "id": "0cc57cc1",
   "metadata": {},
   "outputs": [],
   "source": [
    "X_train = pd.read_csv(\"mitbih_train.csv\").to_numpy()\n",
    "X_test = pd.read_csv(\"mitbih_test.csv\").to_numpy()\n",
    "\n",
    "Y_train = X_train[67000:,-1].astype(int)\n",
    "Y_test = X_test[:,-1].astype(int)\n",
    "X_train = X_train[67000:,:-1]\n",
    "X_test = X_test[:,:-1]"
   ]
  },
  {
   "cell_type": "code",
   "execution_count": 5,
   "id": "6556dbce",
   "metadata": {},
   "outputs": [],
   "source": [
    "class ResBlock(nn.Module):\n",
    "    def __init__(self):\n",
    "        super(ResBlock, self).__init__()\n",
    "        self.conv1 = nn.Conv1d(32, 32, 5, padding='same')\n",
    "        init.xavier_uniform_(self.conv1.weight)\n",
    "        init.constant_(self.conv1.bias, 0)\n",
    "        self.conv2 = nn.Conv1d(32, 32, 5, padding='same')\n",
    "        init.xavier_uniform_(self.conv2.weight)\n",
    "        init.constant_(self.conv2.bias, 0)\n",
    "        self.pool = nn.MaxPool1d(5,stride=2)\n",
    "        \n",
    "    def forward(self, data):\n",
    "        output = f.relu(self.conv1(data))\n",
    "        output = self.conv2(output)\n",
    "        output = output + data\n",
    "        output = f.relu(output)\n",
    "        output = self.pool(output)\n",
    "        return output\n",
    "    \n",
    "class implementedModel(nn.Module):\n",
    "    def __init__(self, device):\n",
    "        super(implementedModel, self).__init__()\n",
    "        self.preconv = nn.Conv1d(1, 32, 5, padding='same')\n",
    "        init.xavier_uniform_(self.preconv.weight)\n",
    "        init.constant_(self.preconv.bias, 0)\n",
    "        self.res = []\n",
    "        for i in range(5):\n",
    "            self.res.append(ResBlock().to(device))\n",
    "        self.fc1 = nn.Linear(64, 32)\n",
    "        self.fc2 = nn.Linear(32, 5)\n",
    "        \n",
    "        \n",
    "    def forward(self, data):\n",
    "        data = self.preconv(data)\n",
    "        for resblock in self.res:\n",
    "            data = resblock(data)\n",
    "        data = nn.Flatten()(data)\n",
    "        data = f.relu(self.fc1(data))\n",
    "        data = f.softmax(self.fc2(data))\n",
    "        return data"
   ]
  },
  {
   "cell_type": "code",
   "execution_count": 6,
   "id": "1840b23c",
   "metadata": {},
   "outputs": [],
   "source": [
    "class EEGDataset(Dataset):\n",
    "    def __init__(self, X, Y):\n",
    "        self.X = torch.FloatTensor(X).unsqueeze(dim=1)\n",
    "        self.Y = torch.LongTensor(Y)\n",
    "        \n",
    "    def __len__(self):\n",
    "        return(self.Y.shape[-1])\n",
    "    \n",
    "    def __getitem__(self, idx):\n",
    "        return self.X[idx], self.Y[idx]"
   ]
  },
  {
   "cell_type": "code",
   "execution_count": 7,
   "id": "8e46e72f",
   "metadata": {},
   "outputs": [],
   "source": [
    "train_dataset = EEGDataset(X_train, Y_train)\n",
    "test_dataset = EEGDataset(X_test, Y_test)\n",
    "train_loader = DataLoader(train_dataset, batch_size=64, shuffle=True)\n",
    "test_loader = DataLoader(train_dataset, batch_size=64)"
   ]
  },
  {
   "cell_type": "code",
   "execution_count": 8,
   "id": "a78de6a4",
   "metadata": {},
   "outputs": [],
   "source": [
    "device = \"mps\"\n",
    "model = implementedModel(device).to(device)\n",
    "loss_fn = nn.CrossEntropyLoss()\n",
    "optimizer = torch.optim.Adam(params = model.parameters(), lr = 0.001)"
   ]
  },
  {
   "cell_type": "code",
   "execution_count": 10,
   "id": "cdf18306",
   "metadata": {
    "scrolled": false
   },
   "outputs": [
    {
     "name": "stderr",
     "output_type": "stream",
     "text": [
      "  0%|                                                   | 0/322 [00:00<?, ?it/s]/var/folders/78/hjwcqld910bbbvv_d5v3vgmw0000gn/T/ipykernel_54347/379434758.py:39: UserWarning: Implicit dimension choice for softmax has been deprecated. Change the call to include dim=X as an argument.\n",
      "  data = f.softmax(self.fc2(data))\n",
      "100%|█████████████████████████████████████████| 322/322 [00:05<00:00, 55.99it/s]\n",
      "100%|████████████████████████████████████████| 322/322 [00:01<00:00, 188.54it/s]\n"
     ]
    },
    {
     "name": "stdout",
     "output_type": "stream",
     "text": [
      "Epoch:  0  | Train Accuracy:  0.5432783535250328  | Test Accuracy: 0.6379333972865561\n"
     ]
    },
    {
     "name": "stderr",
     "output_type": "stream",
     "text": [
      "100%|█████████████████████████████████████████| 322/322 [00:05<00:00, 63.77it/s]\n",
      "100%|████████████████████████████████████████| 322/322 [00:01<00:00, 189.24it/s]\n"
     ]
    },
    {
     "name": "stdout",
     "output_type": "stream",
     "text": [
      "Epoch:  1  | Train Accuracy:  0.7098720381452829  | Test Accuracy: 0.677995523274405\n"
     ]
    },
    {
     "name": "stderr",
     "output_type": "stream",
     "text": [
      "100%|█████████████████████████████████████████| 322/322 [00:05<00:00, 61.25it/s]\n",
      "100%|████████████████████████████████████████| 322/322 [00:01<00:00, 190.30it/s]\n"
     ]
    },
    {
     "name": "stdout",
     "output_type": "stream",
     "text": [
      "Epoch:  2  | Train Accuracy:  0.7311827956989247  | Test Accuracy: 0.6939381480973916\n"
     ]
    },
    {
     "name": "stderr",
     "output_type": "stream",
     "text": [
      "100%|█████████████████████████████████████████| 322/322 [00:05<00:00, 62.77it/s]\n",
      "100%|████████████████████████████████████████| 322/322 [00:01<00:00, 188.88it/s]\n"
     ]
    },
    {
     "name": "stdout",
     "output_type": "stream",
     "text": [
      "Epoch:  3  | Train Accuracy:  0.743978981170632  | Test Accuracy: 0.6939838289708099\n"
     ]
    },
    {
     "name": "stderr",
     "output_type": "stream",
     "text": [
      "100%|█████████████████████████████████████████| 322/322 [00:05<00:00, 62.87it/s]\n",
      "100%|████████████████████████████████████████| 322/322 [00:01<00:00, 190.27it/s]\n"
     ]
    },
    {
     "name": "stdout",
     "output_type": "stream",
     "text": [
      "Epoch:  4  | Train Accuracy:  0.7574563324088941  | Test Accuracy: 0.7176922022749075\n"
     ]
    },
    {
     "name": "stderr",
     "output_type": "stream",
     "text": [
      "100%|█████████████████████████████████████████| 322/322 [00:05<00:00, 63.17it/s]\n",
      "100%|████████████████████████████████████████| 322/322 [00:01<00:00, 185.42it/s]\n"
     ]
    },
    {
     "name": "stdout",
     "output_type": "stream",
     "text": [
      "Epoch:  5  | Train Accuracy:  0.770787719554323  | Test Accuracy: 0.7224430131104107\n"
     ]
    },
    {
     "name": "stderr",
     "output_type": "stream",
     "text": [
      "100%|█████████████████████████████████████████| 322/322 [00:05<00:00, 64.07it/s]\n",
      "100%|████████████████████████████████████████| 322/322 [00:01<00:00, 191.45it/s]\n"
     ]
    },
    {
     "name": "stdout",
     "output_type": "stream",
     "text": [
      "Epoch:  6  | Train Accuracy:  0.7886439935775799  | Test Accuracy: 0.763327394819789\n"
     ]
    },
    {
     "name": "stderr",
     "output_type": "stream",
     "text": [
      "100%|█████████████████████████████████████████| 322/322 [00:05<00:00, 63.83it/s]\n",
      "100%|████████████████████████████████████████| 322/322 [00:01<00:00, 190.34it/s]\n"
     ]
    },
    {
     "name": "stdout",
     "output_type": "stream",
     "text": [
      "Epoch:  7  | Train Accuracy:  0.8138471269401061  | Test Accuracy: 0.7738339957059979\n"
     ]
    },
    {
     "name": "stderr",
     "output_type": "stream",
     "text": [
      "100%|█████████████████████████████████████████| 322/322 [00:05<00:00, 62.44it/s]\n",
      "100%|████████████████████████████████████████| 322/322 [00:01<00:00, 189.35it/s]\n"
     ]
    },
    {
     "name": "stdout",
     "output_type": "stream",
     "text": [
      "Epoch:  8  | Train Accuracy:  0.8239186493455943  | Test Accuracy: 0.7783564021744096\n"
     ]
    },
    {
     "name": "stderr",
     "output_type": "stream",
     "text": [
      "100%|█████████████████████████████████████████| 322/322 [00:05<00:00, 62.84it/s]\n",
      "100%|████████████████████████████████████████| 322/322 [00:01<00:00, 193.85it/s]\n"
     ]
    },
    {
     "name": "stdout",
     "output_type": "stream",
     "text": [
      "Epoch:  9  | Train Accuracy:  0.8312168539872524  | Test Accuracy: 0.7784934447946644\n"
     ]
    },
    {
     "name": "stderr",
     "output_type": "stream",
     "text": [
      "100%|█████████████████████████████████████████| 322/322 [00:05<00:00, 62.61it/s]\n",
      "100%|████████████████████████████████████████| 322/322 [00:01<00:00, 192.01it/s]\n"
     ]
    },
    {
     "name": "stdout",
     "output_type": "stream",
     "text": [
      "Epoch:  10  | Train Accuracy:  0.8340874811463047  | Test Accuracy: 0.7851171714403179\n"
     ]
    },
    {
     "name": "stderr",
     "output_type": "stream",
     "text": [
      "100%|█████████████████████████████████████████| 322/322 [00:05<00:00, 62.63it/s]\n",
      "100%|████████████████████████████████████████| 322/322 [00:01<00:00, 193.27it/s]\n"
     ]
    },
    {
     "name": "stdout",
     "output_type": "stream",
     "text": [
      "Epoch:  11  | Train Accuracy:  0.8396827713715759  | Test Accuracy: 0.7881321090859257\n"
     ]
    },
    {
     "name": "stderr",
     "output_type": "stream",
     "text": [
      "100%|█████████████████████████████████████████| 322/322 [00:05<00:00, 63.69it/s]\n",
      "100%|████████████████████████████████████████| 322/322 [00:01<00:00, 185.12it/s]\n"
     ]
    },
    {
     "name": "stdout",
     "output_type": "stream",
     "text": [
      "Epoch:  12  | Train Accuracy:  0.8418235780664624  | Test Accuracy: 0.7929286007948472\n"
     ]
    },
    {
     "name": "stderr",
     "output_type": "stream",
     "text": [
      "100%|█████████████████████████████████████████| 322/322 [00:05<00:00, 63.90it/s]\n",
      "100%|████████████████████████████████████████| 322/322 [00:01<00:00, 192.71it/s]\n"
     ]
    },
    {
     "name": "stdout",
     "output_type": "stream",
     "text": [
      "Epoch:  13  | Train Accuracy:  0.8437211112732934  | Test Accuracy: 0.7958978575670367\n"
     ]
    },
    {
     "name": "stderr",
     "output_type": "stream",
     "text": [
      "100%|█████████████████████████████████████████| 322/322 [00:05<00:00, 62.73it/s]\n",
      "100%|████████████████████████████████████████| 322/322 [00:01<00:00, 191.68it/s]\n"
     ]
    },
    {
     "name": "stdout",
     "output_type": "stream",
     "text": [
      "Epoch:  14  | Train Accuracy:  0.846056536758624  | Test Accuracy: 0.7978164542506053\n"
     ]
    },
    {
     "name": "stderr",
     "output_type": "stream",
     "text": [
      "100%|█████████████████████████████████████████| 322/322 [00:05<00:00, 63.56it/s]\n",
      "100%|████████████████████████████████████████| 322/322 [00:01<00:00, 184.04it/s]\n"
     ]
    },
    {
     "name": "stdout",
     "output_type": "stream",
     "text": [
      "Epoch:  15  | Train Accuracy:  0.8486352357320099  | Test Accuracy: 0.7974053263898405\n"
     ]
    },
    {
     "name": "stderr",
     "output_type": "stream",
     "text": [
      "100%|█████████████████████████████████████████| 322/322 [00:05<00:00, 62.52it/s]\n",
      "100%|████████████████████████████████████████| 322/322 [00:01<00:00, 190.80it/s]\n"
     ]
    },
    {
     "name": "stdout",
     "output_type": "stream",
     "text": [
      "Epoch:  16  | Train Accuracy:  0.8484892716391768  | Test Accuracy: 0.8011054771367229\n"
     ]
    },
    {
     "name": "stderr",
     "output_type": "stream",
     "text": [
      "100%|█████████████████████████████████████████| 322/322 [00:05<00:00, 63.72it/s]\n",
      "100%|████████████████████████████████████████| 322/322 [00:01<00:00, 192.74it/s]\n"
     ]
    },
    {
     "name": "stdout",
     "output_type": "stream",
     "text": [
      "Epoch:  17  | Train Accuracy:  0.851457208193451  | Test Accuracy: 0.7981362203645334\n"
     ]
    },
    {
     "name": "stderr",
     "output_type": "stream",
     "text": [
      "100%|█████████████████████████████████████████| 322/322 [00:05<00:00, 63.48it/s]\n",
      "100%|████████████████████████████████████████| 322/322 [00:01<00:00, 186.38it/s]\n"
     ]
    },
    {
     "name": "stdout",
     "output_type": "stream",
     "text": [
      "Epoch:  18  | Train Accuracy:  0.8524789568432832  | Test Accuracy: 0.8012882006303961\n"
     ]
    },
    {
     "name": "stderr",
     "output_type": "stream",
     "text": [
      "100%|█████████████████████████████████████████| 322/322 [00:05<00:00, 63.15it/s]\n",
      "100%|████████████████████████████████████████| 322/322 [00:01<00:00, 191.84it/s]\n"
     ]
    },
    {
     "name": "stdout",
     "output_type": "stream",
     "text": [
      "Epoch:  19  | Train Accuracy:  0.8542791806548923  | Test Accuracy: 0.8053081174912065\n"
     ]
    },
    {
     "name": "stderr",
     "output_type": "stream",
     "text": [
      "100%|█████████████████████████████████████████| 322/322 [00:05<00:00, 63.03it/s]\n",
      "100%|████████████████████████████████████████| 322/322 [00:01<00:00, 189.49it/s]\n"
     ]
    },
    {
     "name": "stdout",
     "output_type": "stream",
     "text": [
      "Epoch:  20  | Train Accuracy:  0.8560307497688902  | Test Accuracy: 0.8035265634278927\n"
     ]
    },
    {
     "name": "stderr",
     "output_type": "stream",
     "text": [
      "100%|█████████████████████████████████████████| 322/322 [00:05<00:00, 62.84it/s]\n",
      "100%|████████████████████████████████████████| 322/322 [00:01<00:00, 195.18it/s]\n"
     ]
    },
    {
     "name": "stdout",
     "output_type": "stream",
     "text": [
      "Epoch:  21  | Train Accuracy:  0.8562253685593344  | Test Accuracy: 0.7997807318075921\n"
     ]
    },
    {
     "name": "stderr",
     "output_type": "stream",
     "text": [
      "100%|█████████████████████████████████████████| 322/322 [00:05<00:00, 62.82it/s]\n",
      "100%|████████████████████████████████████████| 322/322 [00:01<00:00, 192.36it/s]\n"
     ]
    },
    {
     "name": "stdout",
     "output_type": "stream",
     "text": [
      "Epoch:  22  | Train Accuracy:  0.8577336641852771  | Test Accuracy: 0.8042117765291672\n"
     ]
    },
    {
     "name": "stderr",
     "output_type": "stream",
     "text": [
      "100%|█████████████████████████████████████████| 322/322 [00:05<00:00, 62.42it/s]\n",
      "100%|████████████████████████████████████████| 322/322 [00:01<00:00, 191.57it/s]\n"
     ]
    },
    {
     "name": "stdout",
     "output_type": "stream",
     "text": [
      "Epoch:  23  | Train Accuracy:  0.8575877000924439  | Test Accuracy: 0.8036179251747293\n"
     ]
    },
    {
     "name": "stderr",
     "output_type": "stream",
     "text": [
      "100%|█████████████████████████████████████████| 322/322 [00:05<00:00, 63.32it/s]\n",
      "100%|████████████████████████████████████████| 322/322 [00:01<00:00, 190.44it/s]\n"
     ]
    },
    {
     "name": "stdout",
     "output_type": "stream",
     "text": [
      "Epoch:  24  | Train Accuracy:  0.8592419598112198  | Test Accuracy: 0.8098305239596181\n"
     ]
    },
    {
     "name": "stderr",
     "output_type": "stream",
     "text": [
      "100%|█████████████████████████████████████████| 322/322 [00:05<00:00, 62.64it/s]\n",
      "100%|████████████████████████████████████████| 322/322 [00:01<00:00, 193.14it/s]\n"
     ]
    },
    {
     "name": "stdout",
     "output_type": "stream",
     "text": [
      "Epoch:  25  | Train Accuracy:  0.8587067581374982  | Test Accuracy: 0.8116577588963501\n"
     ]
    },
    {
     "name": "stderr",
     "output_type": "stream",
     "text": [
      "100%|█████████████████████████████████████████| 322/322 [00:05<00:00, 62.45it/s]\n",
      "100%|████████████████████████████████████████| 322/322 [00:01<00:00, 192.91it/s]\n"
     ]
    },
    {
     "name": "stdout",
     "output_type": "stream",
     "text": [
      "Epoch:  26  | Train Accuracy:  0.8610421836228288  | Test Accuracy: 0.812708418984971\n"
     ]
    },
    {
     "name": "stderr",
     "output_type": "stream",
     "text": [
      "100%|█████████████████████████████████████████| 322/322 [00:05<00:00, 62.49it/s]\n",
      "100%|████████████████████████████████████████| 322/322 [00:01<00:00, 192.13it/s]\n"
     ]
    },
    {
     "name": "stdout",
     "output_type": "stream",
     "text": [
      "Epoch:  27  | Train Accuracy:  0.8634749185033815  | Test Accuracy: 0.8107898223014024\n"
     ]
    },
    {
     "name": "stderr",
     "output_type": "stream",
     "text": [
      "100%|█████████████████████████████████████████| 322/322 [00:05<00:00, 56.67it/s]\n",
      "100%|████████████████████████████████████████| 322/322 [00:01<00:00, 192.23it/s]\n"
     ]
    },
    {
     "name": "stdout",
     "output_type": "stream",
     "text": [
      "Epoch:  28  | Train Accuracy:  0.8648859047341021  | Test Accuracy: 0.7977707733771869\n"
     ]
    },
    {
     "name": "stderr",
     "output_type": "stream",
     "text": [
      "100%|█████████████████████████████████████████| 322/322 [00:05<00:00, 63.21it/s]\n",
      "100%|████████████████████████████████████████| 322/322 [00:01<00:00, 195.39it/s]\n"
     ]
    },
    {
     "name": "stdout",
     "output_type": "stream",
     "text": [
      "Epoch:  29  | Train Accuracy:  0.8625991339463825  | Test Accuracy: 0.8138047599470102\n"
     ]
    },
    {
     "name": "stderr",
     "output_type": "stream",
     "text": [
      "100%|█████████████████████████████████████████| 322/322 [00:05<00:00, 62.41it/s]\n",
      "100%|████████████████████████████████████████| 322/322 [00:01<00:00, 195.26it/s]\n"
     ]
    },
    {
     "name": "stdout",
     "output_type": "stream",
     "text": [
      "Epoch:  30  | Train Accuracy:  0.8651778329197684  | Test Accuracy: 0.8139874834406834\n"
     ]
    },
    {
     "name": "stderr",
     "output_type": "stream",
     "text": [
      "100%|█████████████████████████████████████████| 322/322 [00:05<00:00, 63.39it/s]\n",
      "100%|████████████████████████████████████████| 322/322 [00:01<00:00, 194.66it/s]\n"
     ]
    },
    {
     "name": "stdout",
     "output_type": "stream",
     "text": [
      "Epoch:  31  | Train Accuracy:  0.8642533936651584  | Test Accuracy: 0.8163172079850167\n"
     ]
    },
    {
     "name": "stderr",
     "output_type": "stream",
     "text": [
      "100%|█████████████████████████████████████████| 322/322 [00:05<00:00, 63.82it/s]\n",
      "100%|████████████████████████████████████████| 322/322 [00:01<00:00, 176.82it/s]\n"
     ]
    },
    {
     "name": "stdout",
     "output_type": "stream",
     "text": [
      "Epoch:  32  | Train Accuracy:  0.8672699849170438  | Test Accuracy: 0.816819697592618\n"
     ]
    },
    {
     "name": "stderr",
     "output_type": "stream",
     "text": [
      "100%|█████████████████████████████████████████| 322/322 [00:05<00:00, 62.15it/s]\n",
      "100%|████████████████████████████████████████| 322/322 [00:01<00:00, 191.67it/s]\n"
     ]
    },
    {
     "name": "stdout",
     "output_type": "stream",
     "text": [
      "Epoch:  33  | Train Accuracy:  0.8660049627791563  | Test Accuracy: 0.8156776757571604\n"
     ]
    },
    {
     "name": "stderr",
     "output_type": "stream",
     "text": [
      "100%|█████████████████████████████████████████| 322/322 [00:05<00:00, 63.77it/s]\n",
      "100%|████████████████████████████████████████| 322/322 [00:01<00:00, 190.14it/s]\n"
     ]
    },
    {
     "name": "stdout",
     "output_type": "stream",
     "text": [
      "Epoch:  34  | Train Accuracy:  0.8661995815696005  | Test Accuracy: 0.8159974418710886\n"
     ]
    },
    {
     "name": "stderr",
     "output_type": "stream",
     "text": [
      "100%|█████████████████████████████████████████| 322/322 [00:05<00:00, 62.93it/s]\n",
      "100%|████████████████████████████████████████| 322/322 [00:01<00:00, 196.58it/s]\n"
     ]
    },
    {
     "name": "stdout",
     "output_type": "stream",
     "text": [
      "Epoch:  35  | Train Accuracy:  0.8680971147764317  | Test Accuracy: 0.8149011009090494\n"
     ]
    },
    {
     "name": "stderr",
     "output_type": "stream",
     "text": [
      "100%|█████████████████████████████████████████| 322/322 [00:05<00:00, 62.73it/s]\n",
      "100%|████████████████████████████████████████| 322/322 [00:01<00:00, 190.72it/s]\n"
     ]
    },
    {
     "name": "stdout",
     "output_type": "stream",
     "text": [
      "Epoch:  36  | Train Accuracy:  0.8684863523573201  | Test Accuracy: 0.8189210177698597\n"
     ]
    },
    {
     "name": "stderr",
     "output_type": "stream",
     "text": [
      "100%|█████████████████████████████████████████| 322/322 [00:05<00:00, 64.14it/s]\n",
      "100%|████████████████████████████████████████| 322/322 [00:01<00:00, 190.30it/s]\n"
     ]
    },
    {
     "name": "stdout",
     "output_type": "stream",
     "text": [
      "Epoch:  37  | Train Accuracy:  0.8697513744952076  | Test Accuracy: 0.8143072495546115\n"
     ]
    },
    {
     "name": "stderr",
     "output_type": "stream",
     "text": [
      "100%|█████████████████████████████████████████| 322/322 [00:05<00:00, 63.02it/s]\n",
      "100%|████████████████████████████████████████| 322/322 [00:01<00:00, 192.51it/s]\n"
     ]
    },
    {
     "name": "stdout",
     "output_type": "stream",
     "text": [
      "Epoch:  38  | Train Accuracy:  0.8691188634262638  | Test Accuracy: 0.8184642090356767\n"
     ]
    },
    {
     "name": "stderr",
     "output_type": "stream",
     "text": [
      "100%|█████████████████████████████████████████| 322/322 [00:05<00:00, 62.92it/s]\n",
      "100%|████████████████████████████████████████| 322/322 [00:01<00:00, 192.13it/s]\n"
     ]
    },
    {
     "name": "stdout",
     "output_type": "stream",
     "text": [
      "Epoch:  39  | Train Accuracy:  0.870189266773707  | Test Accuracy: 0.817733315060984\n"
     ]
    },
    {
     "name": "stderr",
     "output_type": "stream",
     "text": [
      "100%|█████████████████████████████████████████| 322/322 [00:05<00:00, 63.53it/s]\n",
      "100%|████████████████████████████████████████| 322/322 [00:01<00:00, 193.24it/s]\n"
     ]
    },
    {
     "name": "stdout",
     "output_type": "stream",
     "text": [
      "Epoch:  40  | Train Accuracy:  0.8708217778426507  | Test Accuracy: 0.8142615686811931\n"
     ]
    },
    {
     "name": "stderr",
     "output_type": "stream",
     "text": [
      "100%|█████████████████████████████████████████| 322/322 [00:05<00:00, 63.04it/s]\n",
      "100%|████████████████████████████████████████| 322/322 [00:01<00:00, 191.43it/s]\n"
     ]
    },
    {
     "name": "stdout",
     "output_type": "stream",
     "text": [
      "Epoch:  41  | Train Accuracy:  0.8707244684474286  | Test Accuracy: 0.8203828057192454\n"
     ]
    },
    {
     "name": "stderr",
     "output_type": "stream",
     "text": [
      "100%|█████████████████████████████████████████| 322/322 [00:05<00:00, 62.02it/s]\n",
      "100%|████████████████████████████████████████| 322/322 [00:01<00:00, 193.74it/s]\n"
     ]
    },
    {
     "name": "stdout",
     "output_type": "stream",
     "text": [
      "Epoch:  42  | Train Accuracy:  0.8706758137498175  | Test Accuracy: 0.8187839751496049\n"
     ]
    },
    {
     "name": "stderr",
     "output_type": "stream",
     "text": [
      "100%|█████████████████████████████████████████| 322/322 [00:05<00:00, 62.88it/s]\n",
      "100%|████████████████████████████████████████| 322/322 [00:01<00:00, 193.41it/s]\n"
     ]
    },
    {
     "name": "stdout",
     "output_type": "stream",
     "text": [
      "Epoch:  43  | Train Accuracy:  0.8707244684474286  | Test Accuracy: 0.8196062308711343\n"
     ]
    },
    {
     "name": "stderr",
     "output_type": "stream",
     "text": [
      "100%|█████████████████████████████████████████| 322/322 [00:05<00:00, 63.62it/s]\n",
      "100%|████████████████████████████████████████| 322/322 [00:01<00:00, 187.57it/s]\n"
     ]
    },
    {
     "name": "stdout",
     "output_type": "stream",
     "text": [
      "Epoch:  44  | Train Accuracy:  0.8720381452829271  | Test Accuracy: 0.8203371248458271\n"
     ]
    },
    {
     "name": "stderr",
     "output_type": "stream",
     "text": [
      "100%|█████████████████████████████████████████| 322/322 [00:05<00:00, 63.22it/s]\n",
      "100%|████████████████████████████████████████| 322/322 [00:01<00:00, 191.13it/s]\n"
     ]
    },
    {
     "name": "stdout",
     "output_type": "stream",
     "text": [
      "Epoch:  45  | Train Accuracy:  0.8736437503040919  | Test Accuracy: 0.8197432734913892\n"
     ]
    },
    {
     "name": "stderr",
     "output_type": "stream",
     "text": [
      "100%|█████████████████████████████████████████| 322/322 [00:05<00:00, 62.67it/s]\n",
      "100%|████████████████████████████████████████| 322/322 [00:01<00:00, 192.28it/s]\n"
     ]
    },
    {
     "name": "stdout",
     "output_type": "stream",
     "text": [
      "Epoch:  46  | Train Accuracy:  0.8720867999805382  | Test Accuracy: 0.8142158878077749\n"
     ]
    },
    {
     "name": "stderr",
     "output_type": "stream",
     "text": [
      "100%|█████████████████████████████████████████| 322/322 [00:05<00:00, 62.53it/s]\n",
      "100%|████████████████████████████████████████| 322/322 [00:01<00:00, 190.26it/s]\n"
     ]
    },
    {
     "name": "stdout",
     "output_type": "stream",
     "text": [
      "Epoch:  47  | Train Accuracy:  0.8734491315136477  | Test Accuracy: 0.8201087204787355\n"
     ]
    },
    {
     "name": "stderr",
     "output_type": "stream",
     "text": [
      "100%|█████████████████████████████████████████| 322/322 [00:05<00:00, 62.88it/s]\n",
      "100%|████████████████████████████████████████| 322/322 [00:01<00:00, 190.46it/s]\n"
     ]
    },
    {
     "name": "stdout",
     "output_type": "stream",
     "text": [
      "Epoch:  48  | Train Accuracy:  0.8735950956064809  | Test Accuracy: 0.8223927641496506\n"
     ]
    },
    {
     "name": "stderr",
     "output_type": "stream",
     "text": [
      "100%|█████████████████████████████████████████| 322/322 [00:05<00:00, 62.63it/s]\n",
      "100%|████████████████████████████████████████| 322/322 [00:01<00:00, 191.07it/s]\n"
     ]
    },
    {
     "name": "stdout",
     "output_type": "stream",
     "text": [
      "Epoch:  49  | Train Accuracy:  0.8751520459300346  | Test Accuracy: 0.8242656799598008\n"
     ]
    },
    {
     "name": "stderr",
     "output_type": "stream",
     "text": [
      "100%|█████████████████████████████████████████| 322/322 [00:05<00:00, 62.79it/s]\n",
      "100%|████████████████████████████████████████| 322/322 [00:01<00:00, 190.52it/s]\n"
     ]
    },
    {
     "name": "stdout",
     "output_type": "stream",
     "text": [
      "Epoch:  50  | Train Accuracy:  0.8753466647204787  | Test Accuracy: 0.8233063816180165\n"
     ]
    },
    {
     "name": "stderr",
     "output_type": "stream",
     "text": [
      "100%|█████████████████████████████████████████| 322/322 [00:05<00:00, 62.98it/s]\n",
      "100%|████████████████████████████████████████| 322/322 [00:01<00:00, 190.20it/s]\n"
     ]
    },
    {
     "name": "stdout",
     "output_type": "stream",
     "text": [
      "Epoch:  51  | Train Accuracy:  0.8765143774631441  | Test Accuracy: 0.8237631903521996\n"
     ]
    },
    {
     "name": "stderr",
     "output_type": "stream",
     "text": [
      "100%|█████████████████████████████████████████| 322/322 [00:05<00:00, 62.77it/s]\n",
      "100%|████████████████████████████████████████| 322/322 [00:01<00:00, 189.66it/s]\n"
     ]
    },
    {
     "name": "stdout",
     "output_type": "stream",
     "text": [
      "Epoch:  52  | Train Accuracy:  0.8753953194180898  | Test Accuracy: 0.8179617194280755\n"
     ]
    },
    {
     "name": "stderr",
     "output_type": "stream",
     "text": [
      "100%|█████████████████████████████████████████| 322/322 [00:05<00:00, 62.42it/s]\n",
      "100%|████████████████████████████████████████| 322/322 [00:01<00:00, 191.16it/s]\n"
     ]
    },
    {
     "name": "stdout",
     "output_type": "stream",
     "text": [
      "Epoch:  53  | Train Accuracy:  0.8754926288133119  | Test Accuracy: 0.8240829564661276\n"
     ]
    },
    {
     "name": "stderr",
     "output_type": "stream",
     "text": [
      "100%|█████████████████████████████████████████| 322/322 [00:05<00:00, 62.96it/s]\n",
      "100%|████████████████████████████████████████| 322/322 [00:01<00:00, 193.65it/s]\n"
     ]
    },
    {
     "name": "stdout",
     "output_type": "stream",
     "text": [
      "Epoch:  54  | Train Accuracy:  0.8768549603464214  | Test Accuracy: 0.8247681695674022\n"
     ]
    },
    {
     "name": "stderr",
     "output_type": "stream",
     "text": [
      "100%|█████████████████████████████████████████| 322/322 [00:05<00:00, 58.74it/s]\n",
      "100%|████████████████████████████████████████| 322/322 [00:01<00:00, 182.56it/s]\n"
     ]
    },
    {
     "name": "stdout",
     "output_type": "stream",
     "text": [
      "Epoch:  55  | Train Accuracy:  0.8768549603464214  | Test Accuracy: 0.8276917454661733\n"
     ]
    },
    {
     "name": "stderr",
     "output_type": "stream",
     "text": [
      "100%|█████████████████████████████████████████| 322/322 [00:05<00:00, 59.31it/s]\n",
      "100%|████████████████████████████████████████| 322/322 [00:01<00:00, 184.53it/s]\n"
     ]
    },
    {
     "name": "stdout",
     "output_type": "stream",
     "text": [
      "Epoch:  56  | Train Accuracy:  0.8761737945798667  | Test Accuracy: 0.8238088712256179\n"
     ]
    },
    {
     "name": "stderr",
     "output_type": "stream",
     "text": [
      "100%|█████████████████████████████████████████| 322/322 [00:05<00:00, 61.72it/s]\n",
      "100%|████████████████████████████████████████| 322/322 [00:01<00:00, 186.75it/s]\n"
     ]
    },
    {
     "name": "stdout",
     "output_type": "stream",
     "text": [
      "Epoch:  57  | Train Accuracy:  0.8771468885320878  | Test Accuracy: 0.8277374263395916\n"
     ]
    },
    {
     "name": "stderr",
     "output_type": "stream",
     "text": [
      "100%|█████████████████████████████████████████| 322/322 [00:05<00:00, 62.95it/s]\n",
      "100%|████████████████████████████████████████| 322/322 [00:01<00:00, 190.94it/s]\n"
     ]
    },
    {
     "name": "stdout",
     "output_type": "stream",
     "text": [
      "Epoch:  58  | Train Accuracy:  0.8793850046221963  | Test Accuracy: 0.8252249783015851\n"
     ]
    },
    {
     "name": "stderr",
     "output_type": "stream",
     "text": [
      "100%|█████████████████████████████████████████| 322/322 [00:05<00:00, 61.72it/s]\n",
      "100%|████████████████████████████████████████| 322/322 [00:01<00:00, 180.98it/s]\n"
     ]
    },
    {
     "name": "stdout",
     "output_type": "stream",
     "text": [
      "Epoch:  59  | Train Accuracy:  0.8790930764365299  | Test Accuracy: 0.8277374263395916\n"
     ]
    },
    {
     "name": "stderr",
     "output_type": "stream",
     "text": [
      "100%|█████████████████████████████████████████| 322/322 [00:05<00:00, 62.93it/s]\n",
      "100%|████████████████████████████████████████| 322/322 [00:01<00:00, 192.01it/s]\n"
     ]
    },
    {
     "name": "stdout",
     "output_type": "stream",
     "text": [
      "Epoch:  60  | Train Accuracy:  0.8806500267600836  | Test Accuracy: 0.8291535334155589\n"
     ]
    },
    {
     "name": "stderr",
     "output_type": "stream",
     "text": [
      "100%|█████████████████████████████████████████| 322/322 [00:05<00:00, 62.87it/s]\n",
      "100%|████████████████████████████████████████| 322/322 [00:01<00:00, 192.25it/s]\n"
     ]
    },
    {
     "name": "stdout",
     "output_type": "stream",
     "text": [
      "Epoch:  61  | Train Accuracy:  0.8806986814576947  | Test Accuracy: 0.8225754876433238\n"
     ]
    },
    {
     "name": "stderr",
     "output_type": "stream",
     "text": [
      "100%|█████████████████████████████████████████| 322/322 [00:05<00:00, 60.03it/s]\n",
      "100%|████████████████████████████████████████| 322/322 [00:01<00:00, 193.08it/s]\n"
     ]
    },
    {
     "name": "stdout",
     "output_type": "stream",
     "text": [
      "Epoch:  62  | Train Accuracy:  0.88094195494575  | Test Accuracy: 0.8291535334155589\n"
     ]
    },
    {
     "name": "stderr",
     "output_type": "stream",
     "text": [
      "100%|█████████████████████████████████████████| 322/322 [00:05<00:00, 62.90it/s]\n",
      "100%|████████████████████████████████████████| 322/322 [00:01<00:00, 185.53it/s]\n"
     ]
    },
    {
     "name": "stdout",
     "output_type": "stream",
     "text": [
      "Epoch:  63  | Train Accuracy:  0.8818663942003601  | Test Accuracy: 0.8316659814535654\n"
     ]
    },
    {
     "name": "stderr",
     "output_type": "stream",
     "text": [
      "100%|█████████████████████████████████████████| 322/322 [00:05<00:00, 61.34it/s]\n",
      "100%|████████████████████████████████████████| 322/322 [00:01<00:00, 189.60it/s]\n"
     ]
    },
    {
     "name": "stdout",
     "output_type": "stream",
     "text": [
      "Epoch:  64  | Train Accuracy:  0.8826448693621369  | Test Accuracy: 0.8257731487826048\n"
     ]
    },
    {
     "name": "stderr",
     "output_type": "stream",
     "text": [
      "100%|█████████████████████████████████████████| 322/322 [00:05<00:00, 63.36it/s]\n",
      "100%|████████████████████████████████████████| 322/322 [00:01<00:00, 190.06it/s]\n"
     ]
    },
    {
     "name": "stdout",
     "output_type": "stream",
     "text": [
      "Epoch:  65  | Train Accuracy:  0.8803094438768063  | Test Accuracy: 0.8302955552510164\n"
     ]
    },
    {
     "name": "stderr",
     "output_type": "stream",
     "text": [
      "100%|█████████████████████████████████████████| 322/322 [00:05<00:00, 63.08it/s]\n",
      "100%|████████████████████████████████████████| 322/322 [00:01<00:00, 191.71it/s]\n"
     ]
    },
    {
     "name": "stdout",
     "output_type": "stream",
     "text": [
      "Epoch:  66  | Train Accuracy:  0.8823529411764706  | Test Accuracy: 0.8275090219725001\n"
     ]
    },
    {
     "name": "stderr",
     "output_type": "stream",
     "text": [
      "100%|█████████████████████████████████████████| 322/322 [00:05<00:00, 63.84it/s]\n",
      "100%|████████████████████████████████████████| 322/322 [00:01<00:00, 189.45it/s]\n"
     ]
    },
    {
     "name": "stdout",
     "output_type": "stream",
     "text": [
      "Epoch:  67  | Train Accuracy:  0.8826448693621369  | Test Accuracy: 0.8287880864282126\n"
     ]
    },
    {
     "name": "stderr",
     "output_type": "stream",
     "text": [
      "100%|█████████████████████████████████████████| 322/322 [00:05<00:00, 63.03it/s]\n",
      "100%|████████████████████████████████████████| 322/322 [00:01<00:00, 191.09it/s]\n"
     ]
    },
    {
     "name": "stdout",
     "output_type": "stream",
     "text": [
      "Epoch:  68  | Train Accuracy:  0.8847856760570233  | Test Accuracy: 0.8336759398839706\n"
     ]
    },
    {
     "name": "stderr",
     "output_type": "stream",
     "text": [
      "100%|█████████████████████████████████████████| 322/322 [00:05<00:00, 62.86it/s]\n",
      "100%|████████████████████████████████████████| 322/322 [00:01<00:00, 184.91it/s]\n"
     ]
    },
    {
     "name": "stdout",
     "output_type": "stream",
     "text": [
      "Epoch:  69  | Train Accuracy:  0.8838612368024132  | Test Accuracy: 0.8292905760358138\n"
     ]
    },
    {
     "name": "stderr",
     "output_type": "stream",
     "text": [
      "100%|█████████████████████████████████████████| 322/322 [00:06<00:00, 52.69it/s]\n",
      "100%|████████████████████████████████████████| 322/322 [00:01<00:00, 182.08it/s]\n"
     ]
    },
    {
     "name": "stdout",
     "output_type": "stream",
     "text": [
      "Epoch:  70  | Train Accuracy:  0.883569308616747  | Test Accuracy: 0.8280115115801014\n"
     ]
    },
    {
     "name": "stderr",
     "output_type": "stream",
     "text": [
      "100%|█████████████████████████████████████████| 322/322 [00:05<00:00, 62.88it/s]\n",
      "100%|████████████████████████████████████████| 322/322 [00:01<00:00, 192.10it/s]\n"
     ]
    },
    {
     "name": "stdout",
     "output_type": "stream",
     "text": [
      "Epoch:  71  | Train Accuracy:  0.8864885904734102  | Test Accuracy: 0.8339957059978986\n"
     ]
    },
    {
     "name": "stderr",
     "output_type": "stream",
     "text": [
      "100%|█████████████████████████████████████████| 322/322 [00:05<00:00, 62.40it/s]\n",
      "100%|████████████████████████████████████████| 322/322 [00:01<00:00, 181.72it/s]\n"
     ]
    },
    {
     "name": "stdout",
     "output_type": "stream",
     "text": [
      "Epoch:  72  | Train Accuracy:  0.8852722230331338  | Test Accuracy: 0.8289251290484674\n"
     ]
    },
    {
     "name": "stderr",
     "output_type": "stream",
     "text": [
      "100%|█████████████████████████████████████████| 322/322 [00:05<00:00, 63.90it/s]\n",
      "100%|████████████████████████████████████████| 322/322 [00:01<00:00, 189.19it/s]\n"
     ]
    },
    {
     "name": "stdout",
     "output_type": "stream",
     "text": [
      "Epoch:  73  | Train Accuracy:  0.8846883666618012  | Test Accuracy: 0.8309807683522908\n"
     ]
    },
    {
     "name": "stderr",
     "output_type": "stream",
     "text": [
      "100%|█████████████████████████████████████████| 322/322 [00:05<00:00, 63.38it/s]\n",
      "100%|████████████████████████████████████████| 322/322 [00:01<00:00, 193.33it/s]\n"
     ]
    },
    {
     "name": "stdout",
     "output_type": "stream",
     "text": [
      "Epoch:  74  | Train Accuracy:  0.8852235683355228  | Test Accuracy: 0.8309807683522908\n"
     ]
    },
    {
     "name": "stderr",
     "output_type": "stream",
     "text": [
      "100%|█████████████████████████████████████████| 322/322 [00:05<00:00, 61.36it/s]\n",
      "100%|████████████████████████████████████████| 322/322 [00:01<00:00, 191.61it/s]\n"
     ]
    },
    {
     "name": "stdout",
     "output_type": "stream",
     "text": [
      "Epoch:  75  | Train Accuracy:  0.8835206539191359  | Test Accuracy: 0.8356402174409575\n"
     ]
    },
    {
     "name": "stderr",
     "output_type": "stream",
     "text": [
      "100%|█████████████████████████████████████████| 322/322 [00:05<00:00, 63.19it/s]\n",
      "100%|████████████████████████████████████████| 322/322 [00:01<00:00, 192.22it/s]\n"
     ]
    },
    {
     "name": "stdout",
     "output_type": "stream",
     "text": [
      "Epoch:  76  | Train Accuracy:  0.8868778280542986  | Test Accuracy: 0.8325339180485131\n"
     ]
    },
    {
     "name": "stderr",
     "output_type": "stream",
     "text": [
      "100%|█████████████████████████████████████████| 322/322 [00:05<00:00, 62.40it/s]\n",
      "100%|████████████████████████████████████████| 322/322 [00:01<00:00, 187.16it/s]\n"
     ]
    },
    {
     "name": "stdout",
     "output_type": "stream",
     "text": [
      "Epoch:  77  | Train Accuracy:  0.8866345545662434  | Test Accuracy: 0.8324425563016765\n"
     ]
    },
    {
     "name": "stderr",
     "output_type": "stream",
     "text": [
      "100%|█████████████████████████████████████████| 322/322 [00:05<00:00, 61.27it/s]\n",
      "100%|████████████████████████████████████████| 322/322 [00:01<00:00, 192.09it/s]\n"
     ]
    },
    {
     "name": "stdout",
     "output_type": "stream",
     "text": [
      "Epoch:  78  | Train Accuracy:  0.8862453169853549  | Test Accuracy: 0.8302955552510164\n"
     ]
    },
    {
     "name": "stderr",
     "output_type": "stream",
     "text": [
      "100%|█████████████████████████████████████████| 322/322 [00:05<00:00, 62.54it/s]\n",
      "100%|████████████████████████████████████████| 322/322 [00:01<00:00, 190.53it/s]\n"
     ]
    },
    {
     "name": "stdout",
     "output_type": "stream",
     "text": [
      "Epoch:  79  | Train Accuracy:  0.8882888142850193  | Test Accuracy: 0.8365081540359052\n"
     ]
    },
    {
     "name": "stderr",
     "output_type": "stream",
     "text": [
      "100%|█████████████████████████████████████████| 322/322 [00:05<00:00, 63.52it/s]\n",
      "100%|████████████████████████████████████████| 322/322 [00:01<00:00, 197.41it/s]\n"
     ]
    },
    {
     "name": "stdout",
     "output_type": "stream",
     "text": [
      "Epoch:  80  | Train Accuracy:  0.8860020434972997  | Test Accuracy: 0.8365538349093234\n"
     ]
    },
    {
     "name": "stderr",
     "output_type": "stream",
     "text": [
      "100%|█████████████████████████████████████████| 322/322 [00:05<00:00, 62.58it/s]\n",
      "100%|████████████████████████████████████████| 322/322 [00:01<00:00, 191.34it/s]\n"
     ]
    },
    {
     "name": "stdout",
     "output_type": "stream",
     "text": [
      "Epoch:  81  | Train Accuracy:  0.8877049579136865  | Test Accuracy: 0.8366908775295784\n"
     ]
    },
    {
     "name": "stderr",
     "output_type": "stream",
     "text": [
      "100%|█████████████████████████████████████████| 322/322 [00:05<00:00, 62.38it/s]\n",
      "100%|████████████████████████████████████████| 322/322 [00:01<00:00, 189.82it/s]\n"
     ]
    },
    {
     "name": "stdout",
     "output_type": "stream",
     "text": [
      "Epoch:  82  | Train Accuracy:  0.8881915048897971  | Test Accuracy: 0.8357315791877941\n"
     ]
    },
    {
     "name": "stderr",
     "output_type": "stream",
     "text": [
      "100%|█████████████████████████████████████████| 322/322 [00:05<00:00, 63.22it/s]\n",
      "100%|████████████████████████████████████████| 322/322 [00:01<00:00, 188.32it/s]\n"
     ]
    },
    {
     "name": "stdout",
     "output_type": "stream",
     "text": [
      "Epoch:  83  | Train Accuracy:  0.8866832092638545  | Test Accuracy: 0.836325430542232\n"
     ]
    },
    {
     "name": "stderr",
     "output_type": "stream",
     "text": [
      "100%|█████████████████████████████████████████| 322/322 [00:05<00:00, 61.57it/s]\n",
      "100%|████████████████████████████████████████| 322/322 [00:01<00:00, 188.62it/s]\n"
     ]
    },
    {
     "name": "stdout",
     "output_type": "stream",
     "text": [
      "Epoch:  84  | Train Accuracy:  0.8881428501921861  | Test Accuracy: 0.8367365584029967\n"
     ]
    },
    {
     "name": "stderr",
     "output_type": "stream",
     "text": [
      "100%|█████████████████████████████████████████| 322/322 [00:05<00:00, 63.26it/s]\n",
      "100%|████████████████████████████████████████| 322/322 [00:01<00:00, 192.64it/s]\n"
     ]
    },
    {
     "name": "stdout",
     "output_type": "stream",
     "text": [
      "Epoch:  85  | Train Accuracy:  0.8864885904734102  | Test Accuracy: 0.8332648120232059\n"
     ]
    },
    {
     "name": "stderr",
     "output_type": "stream",
     "text": [
      "100%|█████████████████████████████████████████| 322/322 [00:05<00:00, 61.47it/s]\n",
      "100%|████████████████████████████████████████| 322/322 [00:01<00:00, 187.69it/s]\n"
     ]
    },
    {
     "name": "stdout",
     "output_type": "stream",
     "text": [
      "Epoch:  86  | Train Accuracy:  0.8883861236802413  | Test Accuracy: 0.8369649627700881\n"
     ]
    },
    {
     "name": "stderr",
     "output_type": "stream",
     "text": [
      "100%|█████████████████████████████████████████| 322/322 [00:05<00:00, 63.64it/s]\n",
      "100%|████████████████████████████████████████| 322/322 [00:01<00:00, 187.45it/s]\n"
     ]
    },
    {
     "name": "stdout",
     "output_type": "stream",
     "text": [
      "Epoch:  87  | Train Accuracy:  0.8891645988420182  | Test Accuracy: 0.831300534466219\n"
     ]
    },
    {
     "name": "stderr",
     "output_type": "stream",
     "text": [
      "100%|█████████████████████████████████████████| 322/322 [00:05<00:00, 63.86it/s]\n",
      "100%|████████████████████████████████████████| 322/322 [00:01<00:00, 190.19it/s]\n"
     ]
    },
    {
     "name": "stdout",
     "output_type": "stream",
     "text": [
      "Epoch:  88  | Train Accuracy:  0.8879482314017418  | Test Accuracy: 0.8307066831117811\n"
     ]
    },
    {
     "name": "stderr",
     "output_type": "stream",
     "text": [
      "100%|█████████████████████████████████████████| 322/322 [00:05<00:00, 63.37it/s]\n",
      "100%|████████████████████████████████████████| 322/322 [00:02<00:00, 160.20it/s]\n"
     ]
    },
    {
     "name": "stdout",
     "output_type": "stream",
     "text": [
      "Epoch:  89  | Train Accuracy:  0.8871211015423539  | Test Accuracy: 0.8377415376181993\n"
     ]
    },
    {
     "name": "stderr",
     "output_type": "stream",
     "text": [
      "100%|█████████████████████████████████████████| 322/322 [00:05<00:00, 63.42it/s]\n",
      "100%|████████████████████████████████████████| 322/322 [00:01<00:00, 189.68it/s]\n"
     ]
    },
    {
     "name": "stdout",
     "output_type": "stream",
     "text": [
      "Epoch:  90  | Train Accuracy:  0.8904296209799056  | Test Accuracy: 0.8273719793522453\n"
     ]
    },
    {
     "name": "stderr",
     "output_type": "stream",
     "text": [
      "100%|█████████████████████████████████████████| 322/322 [00:05<00:00, 63.59it/s]\n",
      "100%|████████████████████████████████████████| 322/322 [00:01<00:00, 191.60it/s]\n"
     ]
    },
    {
     "name": "stdout",
     "output_type": "stream",
     "text": [
      "Epoch:  91  | Train Accuracy:  0.8891159441444071  | Test Accuracy: 0.838015622858709\n"
     ]
    },
    {
     "name": "stderr",
     "output_type": "stream",
     "text": [
      "100%|█████████████████████████████████████████| 322/322 [00:05<00:00, 63.70it/s]\n",
      "100%|████████████████████████████████████████| 322/322 [00:01<00:00, 189.54it/s]\n"
     ]
    },
    {
     "name": "stdout",
     "output_type": "stream",
     "text": [
      "Epoch:  92  | Train Accuracy:  0.8902836568870724  | Test Accuracy: 0.8337673016308071\n"
     ]
    },
    {
     "name": "stderr",
     "output_type": "stream",
     "text": [
      "100%|█████████████████████████████████████████| 322/322 [00:05<00:00, 63.57it/s]\n",
      "100%|████████████████████████████████████████| 322/322 [00:01<00:00, 185.21it/s]\n"
     ]
    },
    {
     "name": "stdout",
     "output_type": "stream",
     "text": [
      "Epoch:  93  | Train Accuracy:  0.8909161679560161  | Test Accuracy: 0.8387465168334018\n"
     ]
    },
    {
     "name": "stderr",
     "output_type": "stream",
     "text": [
      "100%|█████████████████████████████████████████| 322/322 [00:05<00:00, 63.79it/s]\n",
      "100%|████████████████████████████████████████| 322/322 [00:01<00:00, 192.64it/s]\n"
     ]
    },
    {
     "name": "stdout",
     "output_type": "stream",
     "text": [
      "Epoch:  94  | Train Accuracy:  0.8893105629348513  | Test Accuracy: 0.8232607007445982\n"
     ]
    },
    {
     "name": "stderr",
     "output_type": "stream",
     "text": [
      "100%|█████████████████████████████████████████| 322/322 [00:05<00:00, 63.32it/s]\n",
      "100%|████████████████████████████████████████| 322/322 [00:01<00:00, 183.52it/s]\n"
     ]
    },
    {
     "name": "stdout",
     "output_type": "stream",
     "text": [
      "Epoch:  95  | Train Accuracy:  0.8900890380966282  | Test Accuracy: 0.8339500251244804\n"
     ]
    },
    {
     "name": "stderr",
     "output_type": "stream",
     "text": [
      "100%|█████████████████████████████████████████| 322/322 [00:05<00:00, 61.76it/s]\n",
      "100%|████████████████████████████████████████| 322/322 [00:01<00:00, 188.33it/s]\n"
     ]
    },
    {
     "name": "stdout",
     "output_type": "stream",
     "text": [
      "Epoch:  96  | Train Accuracy:  0.8896024911205177  | Test Accuracy: 0.8397058151751862\n"
     ]
    },
    {
     "name": "stderr",
     "output_type": "stream",
     "text": [
      "100%|█████████████████████████████████████████| 322/322 [00:04<00:00, 64.92it/s]\n",
      "100%|████████████████████████████████████████| 322/322 [00:01<00:00, 184.45it/s]\n"
     ]
    },
    {
     "name": "stdout",
     "output_type": "stream",
     "text": [
      "Epoch:  97  | Train Accuracy:  0.8902350021894614  | Test Accuracy: 0.8371020053903431\n"
     ]
    },
    {
     "name": "stderr",
     "output_type": "stream",
     "text": [
      "100%|█████████████████████████████████████████| 322/322 [00:05<00:00, 62.44it/s]\n",
      "100%|████████████████████████████████████████| 322/322 [00:01<00:00, 191.83it/s]\n"
     ]
    },
    {
     "name": "stdout",
     "output_type": "stream",
     "text": [
      "Epoch:  98  | Train Accuracy:  0.8903323115846835  | Test Accuracy: 0.8372847288840163\n"
     ]
    },
    {
     "name": "stderr",
     "output_type": "stream",
     "text": [
      "100%|█████████████████████████████████████████| 322/322 [00:05<00:00, 62.51it/s]\n",
      "100%|████████████████████████████████████████| 322/322 [00:01<00:00, 191.70it/s]"
     ]
    },
    {
     "name": "stdout",
     "output_type": "stream",
     "text": [
      "Epoch:  99  | Train Accuracy:  0.8900890380966282  | Test Accuracy: 0.8387921977068201\n"
     ]
    },
    {
     "name": "stderr",
     "output_type": "stream",
     "text": [
      "\n"
     ]
    }
   ],
   "source": [
    "epoch = 100\n",
    "train_hist = []\n",
    "test_hist = []\n",
    "for e in range(epoch):\n",
    "    train_loss = 0\n",
    "    train_acc = 0\n",
    "    model.train()\n",
    "    for i, (datas, labels) in enumerate(tqdm(train_loader)):\n",
    "        datas = datas.to(\"mps\")\n",
    "        labels = labels.to(\"mps\")\n",
    "        optimizer.zero_grad()\n",
    "        outputs = model(datas)\n",
    "        loss = loss_fn(outputs, labels)\n",
    "        loss.backward()\n",
    "        train_loss += loss.item()\n",
    "        train_acc += (np.sum(np.array(outputs.argmax(dim=1).tolist()) == np.array(labels.tolist())))\n",
    "        optimizer.step()\n",
    "    train_loss /= len(train_loader)\n",
    "    train_acc /= X_train.shape[0]\n",
    "    \n",
    "    test_loss = 0\n",
    "    test_acc = 0\n",
    "    with torch.inference_mode():\n",
    "        for i, (datas, labels) in enumerate(tqdm(test_loader)):\n",
    "            datas = datas.to(\"mps\")\n",
    "            labels = labels.to(\"mps\")\n",
    "            outputs = model(datas)\n",
    "            loss = loss_fn(outputs, labels)\n",
    "            test_loss += loss.item()\n",
    "            test_acc += (np.sum(np.array(outputs.argmax(dim=1).tolist()) == np.array(labels.tolist())))\n",
    "        test_loss /= len(test_loader)\n",
    "        test_acc /= X_test.shape[0]\n",
    "        \n",
    "    train_hist.append(train_loss)\n",
    "    test_hist.append(test_loss)\n",
    "    print(\"Epoch: \",e,\" | Train Accuracy: \", train_acc,\" | Test Accuracy:\", test_acc)"
   ]
  },
  {
   "cell_type": "code",
   "execution_count": 18,
   "id": "5b970a4f",
   "metadata": {},
   "outputs": [
    {
     "data": {
      "image/png": "[encoded data removed]",
      "text/plain": [
       "<Figure size 640x480 with 1 Axes>"
      ]
     },
     "metadata": {},
     "output_type": "display_data"
    }
   ],
   "source": [
    "plt.plot(train_hist, label=\"Training Loss History\")\n",
    "plt.plot(test_hist, label=\"Testing Loss History\")\n",
    "plt.legend()\n",
    "plt.show()"
   ]
  }
 ],
 "metadata": {
  "kernelspec": {
   "display_name": "Python 3 (ipykernel)",
   "language": "python",
   "name": "python3"
  },
  "language_info": {
   "codemirror_mode": {
    "name": "ipython",
    "version": 3
   },
   "file_extension": ".py",
   "mimetype": "text/x-python",
   "name": "python",
   "nbconvert_exporter": "python",
   "pygments_lexer": "ipython3",
   "version": "3.10.12"
  }
 },
 "nbformat": 4,
 "nbformat_minor": 5
}
